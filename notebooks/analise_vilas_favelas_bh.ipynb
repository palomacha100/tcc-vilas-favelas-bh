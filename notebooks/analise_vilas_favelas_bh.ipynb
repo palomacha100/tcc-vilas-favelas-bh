{
 "cells": [
  {
   "cell_type": "code",
   "execution_count": null,
   "id": "40830166-28e9-40b6-8fd5-3e7dab8c50f8",
   "metadata": {},
   "outputs": [],
   "source": [
    "# Análise da população de das vilas e favelas de Belo Horizonte\n",
    "**Trabalho de Conclusão de Curso**  \n",
    "Paloma [Seu Sobrenome] – [Engenharia de Software / USP/Esalq]  \n",
    "\n",
    "## Objetivo\n",
    "Este notebook realiza uma análise dos dados de alfabetização em comunidades urbanas e favelas de Belo Horizonte, segmentando por sexo, faixa etária e raça/cor.\n",
    "\n",
    "## Etapas\n",
    "1. Importação de bibliotecas\n",
    "2. Leitura da base de dados\n",
    "3. Limpeza e organização\n",
    "4. Visualizações iniciais\n",
    "5. Análises específicas\n",
    "6. Conclusões\n",
    "\n",
    "---\n"
   ]
  }
 ],
 "metadata": {
  "kernelspec": {
   "display_name": "Python 3 (ipykernel)",
   "language": "python",
   "name": "python3"
  },
  "language_info": {
   "codemirror_mode": {
    "name": "ipython",
    "version": 3
   },
   "file_extension": ".py",
   "mimetype": "text/x-python",
   "name": "python",
   "nbconvert_exporter": "python",
   "pygments_lexer": "ipython3",
   "version": "3.13.1"
  }
 },
 "nbformat": 4,
 "nbformat_minor": 5
}
